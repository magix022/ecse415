{
  "nbformat": 4,
  "nbformat_minor": 0,
  "metadata": {
    "anaconda-cloud": {},
    "kernelspec": {
      "display_name": "Python 3",
      "language": "python",
      "name": "python3"
    },
    "language_info": {
      "codemirror_mode": {
        "name": "ipython",
        "version": 3
      },
      "file_extension": ".py",
      "mimetype": "text/x-python",
      "name": "python",
      "nbconvert_exporter": "python",
      "pygments_lexer": "ipython3",
      "version": "3.6.3"
    },
    "colab": {
      "name": "Example of Image Filtering using Convolution.ipynb",
      "provenance": [],
      "collapsed_sections": []
    }
  },
  "cells": [
    {
      "cell_type": "markdown",
      "metadata": {
        "id": "lTDl7aAzVwLr",
        "colab_type": "text"
      },
      "source": [
        "# Creating and Applying a 2D Filter"
      ]
    },
    {
      "cell_type": "markdown",
      "metadata": {
        "id": "GO1tmvkmVwLs",
        "colab_type": "text"
      },
      "source": [
        "## **Import resources and display image**\n",
        "\n",
        "### **numpy** is a package for scientific computing in python, and has objects and routines for various mathematical operations.\n",
        "\n",
        "### **cv2** is the opencv2 library, which includes many operations for computer vision.\n",
        "\n",
        "### **skimage** is the sci-kit library for image processing.\n",
        "\n",
        "### **placekitten.com** is a web site that has a lot of pictures of kittens."
      ]
    },
    {
      "cell_type": "code",
      "metadata": {
        "id": "SAZsLGwDVwLt",
        "colab_type": "code",
        "colab": {}
      },
      "source": [
        "import matplotlib.pyplot as plt\n",
        "from skimage import io\n",
        "import cv2\n",
        "import numpy as np\n",
        "\n",
        "%matplotlib inline\n",
        "# Read in the image\n",
        "image = io.imread(\"https://placekitten.com/800/571\")\n",
        "\n",
        "plt.figure(figsize=(12,16))\n",
        "plt.imshow(image)"
      ],
      "execution_count": null,
      "outputs": []
    },
    {
      "cell_type": "markdown",
      "metadata": {
        "id": "XjDKRMvgVwL1",
        "colab_type": "text"
      },
      "source": [
        "### Convert the image to grayscale"
      ]
    },
    {
      "cell_type": "code",
      "metadata": {
        "id": "ZEaj0JG0VwL2",
        "colab_type": "code",
        "colab": {}
      },
      "source": [
        "# Convert to grayscale for filtering\n",
        "gray = cv2.cvtColor(image, cv2.COLOR_RGB2GRAY)\n",
        "\n",
        "plt.figure(figsize=(12,16))\n",
        "plt.imshow(gray, cmap='gray')"
      ],
      "execution_count": null,
      "outputs": []
    },
    {
      "cell_type": "markdown",
      "metadata": {
        "id": "Rc11JffNVwL7",
        "colab_type": "text"
      },
      "source": [
        "### Create a filter kernel\n",
        "\n",
        "### Make a small 2D array to hold the filter coefficients.\n",
        "### Let's first make a filter to emphasize changes in the horizontal direction."
      ]
    },
    {
      "cell_type": "code",
      "metadata": {
        "id": "mCaPJXBQVwL8",
        "colab_type": "code",
        "colab": {}
      },
      "source": [
        "# Create a custom kernel\n",
        "\n",
        "# 3x3 array for edge detection\n",
        "x_difference_kernel = np.array([[ -1, 0, 1], \n",
        "                                [ -2, 0, 2], \n",
        "                                [ -1, 0, 1]])/(9)\n",
        "\n",
        "# Filter the image using filter2D, which has inputs: (grayscale image, bit-depth, kernel)  \n",
        "# here we filter multiple times (what is the effect of this?)\n",
        "x_difference = cv2.filter2D(gray, cv2.CV_16S, x_difference_kernel)\n",
        "\n",
        "plt.figure(figsize=(12,16))\n",
        "plt.imshow(x_difference, cmap='gray')\n"
      ],
      "execution_count": null,
      "outputs": []
    },
    {
      "cell_type": "markdown",
      "metadata": {
        "id": "juzwXzob2dF0",
        "colab_type": "text"
      },
      "source": [
        "## Then make a filter to emphasize changes in the vertical direction."
      ]
    },
    {
      "cell_type": "code",
      "metadata": {
        "id": "xKoj32MNVwMA",
        "colab_type": "code",
        "colab": {}
      },
      "source": [
        "y_difference_kernel = np.array([[ 1, 2, 1], \n",
        "                                [ 0, 0, 0], \n",
        "                                [ -1, -2, -1]])/(9)\n",
        "\n",
        "y_difference = cv2.filter2D(gray, cv2.CV_16S, y_difference_kernel)\n",
        "\n",
        "plt.figure(figsize=(12,16))\n",
        "plt.imshow(y_difference, cmap='gray')"
      ],
      "execution_count": null,
      "outputs": []
    },
    {
      "cell_type": "markdown",
      "metadata": {
        "id": "fG8Y9cWc2j0m",
        "colab_type": "text"
      },
      "source": [
        "### To combine the two filtered outputs into a single image, we can treat the two image pixels values as the components of a vector and compute the magnitude of this vector. This vector can be interpreted as an approximation to the spatial gradient vector of the original image."
      ]
    },
    {
      "cell_type": "code",
      "metadata": {
        "id": "kyEDDRUSBNCX",
        "colab_type": "code",
        "colab": {}
      },
      "source": [
        "gradient_magnitude = np.sqrt((y_difference * y_difference) + (x_difference * x_difference))\n",
        "plt.figure(figsize=(12,16))\n",
        "plt.imshow(gradient_magnitude, cmap='gray')\n"
      ],
      "execution_count": null,
      "outputs": []
    },
    {
      "cell_type": "markdown",
      "metadata": {
        "id": "kS00xh8X29Ay",
        "colab_type": "text"
      },
      "source": [
        "### We can also compute the direction of the vector, by taking the arctangent of the y-component of the gradient divided by the x-component. Here we use a false color scale to represent the angle values."
      ]
    },
    {
      "cell_type": "code",
      "metadata": {
        "id": "LI1jbdOAyAqi",
        "colab_type": "code",
        "colab": {}
      },
      "source": [
        "gradient_angle = np.arctan2(y_difference,x_difference) * 180 / np.pi\n",
        "plt.figure(figsize=(12,16))\n",
        "plt.imshow(gradient_angle, cmap='hsv')"
      ],
      "execution_count": null,
      "outputs": []
    },
    {
      "cell_type": "markdown",
      "metadata": {
        "id": "yCWv9yYT3Oo0",
        "colab_type": "text"
      },
      "source": [
        "### The gradient angle image is very busy, as even the regions with very small magnitudes are given a value. \n",
        "### So, we generate a binary mask image which indicates those pixels for which the gradient magnitude is large."
      ]
    },
    {
      "cell_type": "code",
      "metadata": {
        "id": "4TfOb_LXzxDL",
        "colab_type": "code",
        "colab": {}
      },
      "source": [
        "ret,gradient_threshold = cv2.threshold(gradient_magnitude,6,255,cv2.THRESH_BINARY)\n",
        "plt.figure(figsize=(12,16))\n",
        "plt.imshow(gradient_threshold, cmap='gray')"
      ],
      "execution_count": null,
      "outputs": []
    },
    {
      "cell_type": "markdown",
      "metadata": {
        "id": "ON9vWpoh3raV",
        "colab_type": "text"
      },
      "source": [
        "### We can use this mask to set all of the low gradient magnitude pixel angle values to zero. This gives a cleaner looking gradient direction image."
      ]
    },
    {
      "cell_type": "code",
      "metadata": {
        "id": "rxX_7nwP0bAL",
        "colab_type": "code",
        "colab": {}
      },
      "source": [
        "masked_gradient_angle = gradient_angle * gradient_threshold / 255\n",
        "plt.figure(figsize=(12,16))\n",
        "plt.imshow(masked_gradient_angle, cmap='hsv')"
      ],
      "execution_count": null,
      "outputs": []
    }
  ]
}